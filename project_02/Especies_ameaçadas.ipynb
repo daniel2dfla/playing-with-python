{
 "cells": [
  {
   "cell_type": "code",
   "execution_count": 2,
   "id": "51eac536",
   "metadata": {},
   "outputs": [
    {
     "name": "stdout",
     "output_type": "stream",
     "text": [
      "('Número de espécies da fauna e da flora brasileira avaliadas quanto ao risco '\n",
      " 'de extinção')\n",
      "{'2014': '16645'}\n"
     ]
    }
   ],
   "source": [
    "import requests\n",
    "import pprint\n",
    "\n",
    "link = \"https://servicodados.ibge.gov.br/api/v3/agregados/7392/periodos/2014/variaveis/10484?localidades=N1[all]\"\n",
    "\n",
    "requisicao = requests.get(link)\n",
    "informacoes = requisicao.json()\n",
    "\n",
    "busca = informacoes[0]['variavel']\n",
    "resultado = informacoes[0]['resultados'][0]['series'][0]['serie']\n",
    "\n",
    "pprint.pprint(informacoes[0]['variavel'])\n",
    "pprint.pprint(informacoes[0]['resultados'][0]['series'][0]['serie'])"
   ]
  },
  {
   "cell_type": "code",
   "execution_count": null,
   "id": "f9d087f7",
   "metadata": {},
   "outputs": [],
   "source": []
  }
 ],
 "metadata": {
  "kernelspec": {
   "display_name": "Python 3 (ipykernel)",
   "language": "python",
   "name": "python3"
  },
  "language_info": {
   "codemirror_mode": {
    "name": "ipython",
    "version": 3
   },
   "file_extension": ".py",
   "mimetype": "text/x-python",
   "name": "python",
   "nbconvert_exporter": "python",
   "pygments_lexer": "ipython3",
   "version": "3.8.10"
  }
 },
 "nbformat": 4,
 "nbformat_minor": 5
}
