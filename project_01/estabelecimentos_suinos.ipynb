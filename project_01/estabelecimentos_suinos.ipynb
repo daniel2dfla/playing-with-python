{
 "cells": [
  {
   "cell_type": "code",
   "execution_count": 14,
   "id": "07442073",
   "metadata": {},
   "outputs": [
    {
     "name": "stdout",
     "output_type": "stream",
     "text": [
      "'Número de estabelecimentos agropecuários com suínos'\n",
      "'1496422'\n"
     ]
    }
   ],
   "source": [
    "import requests\n",
    "import pprint\n",
    "\n",
    "link = \"https://servicodados.ibge.gov.br/api/v3/agregados/4112/periodos/2006/variaveis/2586?localidades=N1[all]\"\n",
    "\n",
    "requisicao = requests.get(link)\n",
    "informacoes = requisicao.json()\n",
    "\n",
    "item_busca = informacoes[0]['variavel']\n",
    "resultados = informacoes[0]['resultados'][0]['series'][0]['serie']['2006']\n",
    "\n",
    "pprint.pprint(informacoes[0]['variavel'])\n",
    "pprint.pprint(informacoes[0]['resultados'][0]['series'][0]['serie']['2006'])"
   ]
  },
  {
   "cell_type": "code",
   "execution_count": null,
   "id": "8745f7e9",
   "metadata": {},
   "outputs": [],
   "source": []
  }
 ],
 "metadata": {
  "kernelspec": {
   "display_name": "Python 3 (ipykernel)",
   "language": "python",
   "name": "python3"
  },
  "language_info": {
   "codemirror_mode": {
    "name": "ipython",
    "version": 3
   },
   "file_extension": ".py",
   "mimetype": "text/x-python",
   "name": "python",
   "nbconvert_exporter": "python",
   "pygments_lexer": "ipython3",
   "version": "3.8.10"
  }
 },
 "nbformat": 4,
 "nbformat_minor": 5
}
